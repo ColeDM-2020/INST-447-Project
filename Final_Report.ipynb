{
 "cells": [
  {
   "attachments": {},
   "cell_type": "markdown",
   "metadata": {},
   "source": [
    " ### Introduction\n",
    "Our project focuses on crash and traffic data for the state of Maryland. For this project we will be using the crash and traffic data for the years 2016, 2017, 2018, and 2019 to compare the years to see if traffic and crashes had gotten worse or better throughout those years. We pulled data from Maryland.gov’s Maryland Annual Average Daily Traffic - Annual Average Daily Traffic (SHA Statewide AADT Lines) website to get our data for the annual average daily traffic that is on a certain road. There were many columns in this dataset including AADT values for a number of years since 2000, additionally the file also had data for specific vehicles like car, bus, motorcycle, etc. We discarded most of the columns from this dataset as they were irrelevant to our project and many were repetitive. We ended up pulling out the columns for COUNTY_ID, ID_RTE_NO, AADT_2016, AADT_2017, AADT_2018, AADT. All of the columns had int or float variables in them.\n",
    "\n",
    "For the other dataset that we used, we again pulled data from Maryland.gov, but this time we were pulling Maryland Statewide Vehicle Crashes. Both the files that we pulled from the Maryland.gov website came as CSV files. This CSV file has over 800,000 rows of crash data, but we narrowed them down to only be between the years of 2016 to 2019, to match up with the annual average daily traffic data. There were also a lot of different columns inside this CSV, but we only needed to use some of them and the values that we chose for this file were COUNTY_NO, RTE_NO, YEAR. We chose these, because the COUNTY_NO and the RTE_NO matched up with the COUNTY_ID and the ID_RTE_NO from the other file, so that we were able to merge them without any problem.\n",
    "\n",
    "Finally we pulled population data for the various counties in Maryland from the Maryland State Archives. This allowed us to make comparisons on a per capita rate. For this dataset we only copied the values we needed from the website making it easy to pull merge in the new data.\n",
    "\n",
    "Our main goal of this project is to determine whether or not a year had worse traffic that the others and to also say see which roads had the most crashes for the amount of traffic that went over that road for the year, so that we can maybe warn people to steer clear of a certain road if it more crash prone that others. Some of our motivations for this project is that our college is in Maryland and we all grew up in Maryland so we have some interest in knowing for ourselves as well.\n"
   ]
  },
  {
   "attachments": {},
   "cell_type": "markdown",
   "metadata": {},
   "source": [
    "### Method\n",
    "Once we pulled the data down the main thing that we needed to do was to clean that data. For the Maryland Annual Average Daily Traffic - Annual Average Daily Traffic (SHA Statewide AADT Lines) data we first read the file as a csv and opened it in a pandas dataframe, from there we dropped all of the column that had the AADT, from there we then dropped the following columns 'LINK', 'ROUTEID', 'MUNICIPALITY', 'ROUTEID_RH', 'MP_SUFFIX', 'BEGIN_SECTION', 'END_SECTION', 'MUN_SORT', 'OBJECTID', 'STATION_DESC', 'ROAD_SECTION', 'ID_MP', 'RURAL_URBAN', 'MAIN_LINE', 'COUNTED_FACTORED', 'STMP_SEQ', 'K_FACTOR', 'D_FACTOR', 'NORTH_EAST_SPLIT', 'SOUTH_WEST_SPLIT', 'PEAK_HOUR_DIRECTION', 'LOCATION_ID', 'NUM_LANES', 'PEAK_HOUR_DIRECTION', 'AADT_2010', 'AADT_2011', 'AADT_2012', 'AADT_2013', 'AADT_2014', 'AADT_2015'. This was because these were un-needed columns for answering our question. Then we renamed the AADT column to AADT_2019 so that we could have the same format for each of the AADT columns. Next we sorted the values by the COUNTY_ID so that we could get all of the roads that are in a certain county and the AADT and crash count for that road. From there we then made a seperate dataframe with 'COUNTY_ID', 'ID_RTE_NO', 'AADT_2016', 'AADT_2017', 'AADT_2018', 'AADT_2019', so that we culd them do a pd.melt on that dataframe and then setting the ID’s to 'COUNTY_ID' and 'ID_RTE_NO', then we set the var name to YEAR and the value name to AADT. After that we renamed the column 'COUNTY_ID' to COUNTY_NO and 'ID_RTE_NO' to RTE_NO, to match the crash dataframe. Finally I set the index to 'YEAR', 'COUNTY_NO', 'RTE_NO'.\n",
    "\n",
    "For the crash data the file was to big to upload to Github. So we first read in the file for  Maryland Statewide Vehicle Crashes and then we made a dataframe with the following columns 'YEAR', 'QUARTER', 'LIGHT_DESC', 'COUNTY_NO', 'COLLISION_TYPE_DESC',\t'REPORT_NO', 'REPORT_TYPE', 'ACC_DATE', 'ACC_TIME', 'AGENCY_CODE', 'RTE_NO',\t'MAINROAD_NAME', 'LATITUDE', 'LONGITUDE', 'LOCATION'. We then made another dataframe with crashes that were from the years 2016, 2017, 2018, 2019, so that it could match the traffic data. After this we dropped all of the NaN values from the dataframe, which left us with 362125 rows in the dataframe. We then sent this file to a csv file so that we could upload the file to Github. After this we loaded the file back in to do more cleaning on it. First we dropped the Unnamed: 0 columns that were created when we sent the file to a CSV. After that we turned the COUNTY_NO and RTE_NO into int64 values. Next we did a groupby on 'YEAR', 'COUNTY_NO', 'RTE_NO' and then did a count in the values and put them into a column called CRASH_COUNT in the dataframe that was created. Then we merged the traffic dataframe with the crash dataframe to be able to get the values that we wanted together. From this point we had a new dataframe that was the traffic and crash data. So from this point we then did a dropna on the dataframe to clear out any of the values without a crash then we took the mean value of the AADT column that was in the dataframe to be able to group together all of the RTE_NO for a certain county. Finally we created a column called CRASH_OVER_TRAFFIC which was the crash data divided by the traffic data so we could get a ratio of the number of crashes to the amount of traffic on a certain road. This was the final data cleaning step that we did for the crash data, we just exported it to a CSV file to be able to work with the data easier.\n"
   ]
  },
  {
   "attachments": {},
   "cell_type": "markdown",
   "metadata": {},
   "source": [
    "### Preprocessing \n",
    "In the preprocessing stage, we cleaned the data to combine the two data sets. As described above, in the data set with the annual traffic data, we dropped the rows that were not needed for the analysis. In this dataframe, we initially dropped a number of rows, but then we dropped several other rows again that weren’t needed. This left us with ‘COUNTY_ID’, ‘ID_RTE_NO’, and the AADT data for years 2016-2019, each in separate columns. Then we melted this new dataframe, renamed the AADT rows to their corresponding years, and reset the index on the year, county id, and route number. This left us with the cleaned traffic data frame that had the year, county id, route number, and their corresponding AADT values. We put this data into a new file called ‘Dropped_crash_data.csv’. \n",
    "\n",
    "With the crash data set, we dropped one row. We then had to change the data types of the ‘COUNTY_NO’ and ‘RTE_NO’ columns from objects to integers. This dataframe needed to include the counts of crashes in specific routes, so a new dataframe was created. Using groupby and count functions, we created a dataframe that had the crash count for each route number for each of the 4 years. The index was then set on the year, county number, and route number. This gave us a final dataframe that included year, county number, route number, and their corresponding crash counts. \n",
    "\n",
    "The next step we took was merging the crash and traffic data sets. We decided to merge on year, county number, and route number. After this merge, we reset the index, and dropped all of the NA values. This was not all we needed though, the data needed to be manipulated to match what we needed. So we created a new column in the data set called ‘CRASH_OVER_TRAFFIC’. This gave us the ratio of crashes to traffic for each route over the four years. We then set the index of this final dataframe to the year, county number, and route number. This final data frame was put into a new file called ‘FinalData.csv’. This cleaning and manipulation laid the groundwork for the visualizations we were able to create.\n"
   ]
  },
  {
   "attachments": {},
   "cell_type": "markdown",
   "metadata": {},
   "source": [
    "### Results\n",
    "When looking at the bar charts that were created, you can clearly see a pattern among the routes and their crash to traffic ratios. These charts showed the routes with the top 10 highest ratios. For all four years that we looked at, the two dominant routes with the highest ratio were route 95 and 695. 95 was number one in 2016 but 695 took the number one spot for 2017-2019. These two routes had significantly more incidents than the rest of the other routes. There were a few other routes that appeared in the top 10 all four years. These included routes 13, 68, and 270. The graph displayed to the right actually includes these routes. We can see here how much higher the 695 and 95 numbers are than all of the other top 10 routes. Although these were significantly lower than routes 95 and 695, they are still points of interest because of their steady ranking in the top 10 crash routes. \n",
    "\n",
    "We also created several heatmaps showing the state of Maryland and its traffic and crash data. The first one we can look at is the crashes/traffic logged ratio. Seen to the right, we took the crashes/traffic ratios and put them into a heatmap that displays their prominence in each county. We also logged the data which helped normalize it so that we could get accurate maps. What we can see here is a few key areas and counties that stand out. Counties in southern Maryland like Charles and St. Mary’s county have higher values, and so do several counties on the eastern shore. There are also several interesting outliers. Harford county in northeast Maryland stands out as much higher than all other counties. We also see that Baltimore City and Allegany county are much lower than others. But this could be due to a lack of data collection because these discrepancies can be seen in the other graphs too. Counties with lower data also include Prince George's county and Kent county. \n",
    "\n",
    "Next we created a heatmap that displays the crashes by county total. Like the crashes/traffic map, we logged the data to help it fit the map better. The data in this map actually looks quite different than in the crashes/traffic map. We see that in counties like Harford county, the crash total is actually low compared to the other counties. Some of the counties seemed to be the opposite to the crash/traffic map. There seems to be a trend of several counties where when the crash/traffic numbers are low, the crashes by country are high, and vice versa. \n",
    "\n",
    "The last map that we can look at shows each county's average AADT (Annual Average Daily Traffic) numbers. Just like the other two maps, the data was logged to help it fit the map better. When comparing the crashes by county map and the AADT map, we see that they are fairly similar. Counties with high AADT numbers also have high total crashes. This can most likely be correlated with these counties having areas of high traffic. This may include places like cities and major highways that are more susceptible to crash incidents. \n"
   ]
  },
  {
   "attachments": {},
   "cell_type": "markdown",
   "metadata": {},
   "source": [
    "### Discussion\n",
    "Overall we found counties with a high level of traffic also had a higher level of motor vehicle crashes. Counties that contained major interstate and highway links such as Kent, Harford, Cecil, and Baltimore which contain the DC & Baltimore beltways, I95, and US 50 & 30 had higher levels of both traffic and crashes. Through our analysis we also found that interstates 95 and 695 topped the charts every year for roads with the most crashes. \n",
    "\n",
    "This finding made sense in the context of our goal and while we cannot definitively say traffic causes additional crashes we can say that the two are correlated and also offer up some possible explanations. Increased traffic could cause increased driver frustration and more aggressive driving, aggressive driving is known to cause additional crashes on road ways so this would make sense. It is also possible that due to a larger number of vehicles traveling over them high traffic roads are in worse condition which leads to additional accidents. This could be a possible future consideration to include construction and repair data into our calculations. \n",
    "\n",
    "One thing to note is that these ratios do not directly correlate to population data. This however can be explained. Many of the large highways in Maryland, especially 50/301 through Kent are used largely for summer travel to locations like Ocean City for Marylanders. Additionally many use this route as a bypass to avoid following Interstate 95 through Baltimore and encountering city traffic. This would lead to a higher level of traffic and crashes then you would expect if this region only handled traffic moving within that county. \n",
    "\n",
    "It is also interesting to note that our county with the highest Crash/Traffic ratio is Harford county. Harford had very little AADT but an extremely high rate of car crashes. There is not an obvious explanation for this finding, Harford does have three main Highways: I-95, MD 40, and MD 1 but Cecil county also has these same three roads and has a much less aggressive ratio of Crashes to Traffic. Further research would be necessary to determine why this county in specific had such a high Crashes/Traffic ratio.\n"
   ]
  },
  {
   "attachments": {},
   "cell_type": "markdown",
   "metadata": {},
   "source": [
    "### Limitations\n",
    "There are several limitations to the data that we used. First off, for the traffic data you are not able to look any deeper into what month, week, day, etc. the traffic occurred in. So this means that there is only the averaged data for the year in terms of traffic to look at. Also for the traffic data, some of the roads did not have data for certain years, so there could be some disparities in the data, because one year could have more traffic, just because other roads didn't have data for it in one year, but did in a later year.\n",
    "\n",
    "For the crash data the main limitation is that\tthere were a decent amount of NaN values for the RTE_NO column, so there could have been a significant amount of crashes that were left out from the dataset, this does not give an accurate depiction of where the crashes occurred. Other than these there were not too many limitations with the data that we used.\n"
   ]
  },
  {
   "attachments": {},
   "cell_type": "markdown",
   "metadata": {},
   "source": [
    "### Conclusion\n",
    "In conclusion, we learned a lot from this project, we learned a few new skills like how to make a heatmap using the map of Maryland as an overlay, we learned about geoJSON files and how to use them to make graphs. Another thing that we learned was how to apply a lot of the data cleaning techniques from the class to our work. I believe that this data and analysis can be helpful for people who live in the state of Maryland and drive a lot, so that they can see what road to go on and what roads to avoid.\n",
    "\n",
    "Links\n",
    "Link to the GitHub were the code and the pictures are stored for this project\n",
    "\n",
    "Traffic:https://data.imap.maryland.gov/datasets/3f4b959826c34480be3e4740e4ee025f/explore?location=38.752787%2C-77.252586%2C8.00\n",
    "\n",
    "Crashes:https://opendata.maryland.gov/Public-Safety/Maryland-Statewide-Vehicle-Crashes/65du-s3qu\n",
    "\n",
    "Population:https://msa.maryland.gov/msa/mdmanual/01glance/html/pop.html#county\n"
   ]
  },
  {
   "attachments": {},
   "cell_type": "markdown",
   "metadata": {},
   "source": []
  }
 ],
 "metadata": {
  "language_info": {
   "name": "python"
  },
  "orig_nbformat": 4
 },
 "nbformat": 4,
 "nbformat_minor": 2
}
